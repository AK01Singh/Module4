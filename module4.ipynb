{
  "nbformat": 4,
  "nbformat_minor": 0,
  "metadata": {
    "colab": {
      "provenance": []
    },
    "kernelspec": {
      "name": "python3",
      "display_name": "Python 3"
    },
    "language_info": {
      "name": "python"
    }
  },
  "cells": [
    {
      "cell_type": "markdown",
      "source": [
        "## Data Types and Structures Questions\n"
      ],
      "metadata": {
        "id": "acOZKGMUbb52"
      }
    },
    {
      "cell_type": "markdown",
      "source": [
        "Q1.  What are data structures, and way are they important?\n",
        "->  A data structure is way of organizing and storing data in a computer so\n",
        "    that it can be accesed and used efficiently.It refers to the logical or mathmatical representation of data, as well as the implementation in a computer program.\n",
        "    "
      ],
      "metadata": {
        "id": "2_2LCn8lbovQ"
      }
    },
    {
      "cell_type": "markdown",
      "source": [
        "Q2. Explain the difference between mutable and immutable data types with\n",
        "    examples?\n",
        "  -> Mutable data can be changed/replace/modify or  after creation, while immutable data can not be chanded/replace/modify after once been created.\n",
        "  examle----->"
      ],
      "metadata": {
        "id": "KzWFSiy_dqzh"
      }
    },
    {
      "cell_type": "code",
      "execution_count": 1,
      "metadata": {
        "colab": {
          "base_uri": "https://localhost:8080/"
        },
        "id": "euCFLYAVbEpv",
        "outputId": "abd82452-2d97-46dd-8e3e-910d33358cd7"
      },
      "outputs": [
        {
          "output_type": "stream",
          "name": "stdout",
          "text": [
            "[10, 100, 30, 40]\n"
          ]
        }
      ],
      "source": [
        "# Mutable data\n",
        "my_list = [10, 20, 30, 40]\n",
        "my_list[1]=100                    #Modify the second element\n",
        "print(my_list)"
      ]
    },
    {
      "cell_type": "code",
      "source": [
        "# Immutable data\n",
        "say = \"hello_World\"\n",
        "#say[0] = \"H\" #this will raise an error because strings are immutable\n",
        "new_say = \"H\" + say[1:]\n",
        "     #Creates a new string, doesn't modify the original\n",
        "print(new_say)"
      ],
      "metadata": {
        "colab": {
          "base_uri": "https://localhost:8080/"
        },
        "id": "sEnvzjPSff-m",
        "outputId": "083657bd-ce88-467c-9cad-84e7845e1a7e"
      },
      "execution_count": 3,
      "outputs": [
        {
          "output_type": "stream",
          "name": "stdout",
          "text": [
            "Hello_World\n"
          ]
        }
      ]
    },
    {
      "cell_type": "markdown",
      "source": [
        "Q3. What are the main differences between lists and tuples in Python?\n",
        "   * Syntax:\n",
        "\n",
        "       *Lists: are defined using square brackets []\n",
        "\n",
        "       *Tuples: are defined using parentheses ()\n",
        "\n",
        "   * Mutability:\n",
        "\n",
        "       *Lists are mutable:Their elements can add,remove,or modified after creation\n",
        "\n",
        "       *Tuples are immutable: once created, then elements of tuple cannot be changed\n",
        "   * Usability:\n",
        "\n",
        "       *Lists: in dictionary we cannot use lists as keys\n",
        "\n",
        "       *Tuples: in dictionary we can create keys using tuples\n",
        "   * Methods:\n",
        "   \n",
        "       *Lists: There are 46 available methods on lists\n",
        "\n",
        "       *Tuples: There are 33 available methods on tuples"
      ],
      "metadata": {
        "id": "IYis7VQxhY69"
      }
    },
    {
      "cell_type": "markdown",
      "source": [
        "Q4. Describe how dictionaries store data?\n",
        "->  A dictionary is a collection which is ordered*, changeable and do not allow duplicates.Dictionaries are used to store data values in key:value pairs.\n",
        "\n"
      ],
      "metadata": {
        "id": "XfolfW19km6X"
      }
    },
    {
      "cell_type": "markdown",
      "source": [
        "Q5. why might you use a set instead of list in python?\n",
        "->  Because sets we cannot have multiple occurrences of the same element, it\n",
        "    makes sets highly useful to efficiently remove duplicate values from a list or tuple and to perform common math operations like unions and intersections.\n"
      ],
      "metadata": {
        "id": "AAKIgTXSop7y"
      }
    },
    {
      "cell_type": "markdown",
      "source": [
        "Q6. What is a string in Python, and how is it different from a list?\n",
        "-> A list a sequence of values which can be characters, integers or even\n",
        "   another list( it's referred to as a nested list).A string is a sequence of characters.A dictionary is a more like general version of a list and is made up a sets of keys and values where there is a mapping between a given key and its corresponding value."
      ],
      "metadata": {
        "id": "vZdl2usSqBMV"
      }
    },
    {
      "cell_type": "markdown",
      "source": [
        "Q7. How do tuples ensure data integrity in Python?\n",
        "->  Tuples in Python ensure data integrity through their immutability. Once a tuple is created, its elements cannot be changed, added, or removed.Tuples provides several benefits:  \n",
        "* Data Stability:\n",
        "  Immutability ensures that the data within a tuple remains constant throughout the program's execution, preventing accidental modifications and maintaining data consistency.\n",
        "* Dictionary Keys:\n",
        "Because tuples are immutable, they can be used as keys in dictionaries, ensuring that the keys remain consistent and reliable for data retrieval."
      ],
      "metadata": {
        "id": "EpsMApzbq_7R"
      }
    },
    {
      "cell_type": "markdown",
      "source": [
        "Q8. What is a hash table, and how does it relate to dictionaries in python?\n",
        "->  Hash tables are one of those fundamental data structures that every developer should know. They're the backbone of Python's dictionaries and are crucial for efficient data storage and retrieval."
      ],
      "metadata": {
        "id": "bBrj4eIasDkH"
      }
    },
    {
      "cell_type": "markdown",
      "source": [
        "Q9. Can lists contain different data types in Python?\n",
        "->  Yes, lists in Python can contain different data types.\n",
        "    For example..."
      ],
      "metadata": {
        "id": "f4Q412_5tOkz"
      }
    },
    {
      "cell_type": "code",
      "source": [
        "#Python can contain different data types\n",
        "my_list = [1, \"hello\", 3.14, True, [1, 2, 3], {\"key\": \"value\"}]\n",
        "print(my_list)"
      ],
      "metadata": {
        "colab": {
          "base_uri": "https://localhost:8080/"
        },
        "id": "Rq2Cn02NhKf_",
        "outputId": "a4c2d75d-0ebc-497f-971a-0e60d438cd51"
      },
      "execution_count": 4,
      "outputs": [
        {
          "output_type": "stream",
          "name": "stdout",
          "text": [
            "[1, 'hello', 3.14, True, [1, 2, 3], {'key': 'value'}]\n"
          ]
        }
      ]
    },
    {
      "cell_type": "markdown",
      "source": [
        "Q10. Explain why strings are immutable in Python?"
      ],
      "metadata": {
        "id": "kbDLZ1ZfuJtL"
      }
    },
    {
      "cell_type": "code",
      "source": [
        "\"\"\"\n",
        "Q10. Explain why strings are immutable in Python?\n",
        " ->  Strings are \"immutable\" which means they cannot be changed after they are created\n",
        " Example->\n",
        " \"\"\"\n",
        "\n",
        "string1 = \"hello\"\n",
        "string2 = string1 + \" world\"      # A new string object \"hello world\" is created\n",
        "print(string1)                     # Output: hello (original string is unchanged)\n",
        "print(string2)                     # Output: hello world"
      ],
      "metadata": {
        "colab": {
          "base_uri": "https://localhost:8080/"
        },
        "id": "v-lzIfxPuGgr",
        "outputId": "30d75aea-aadf-4a4e-eadd-141f9e52619a"
      },
      "execution_count": 5,
      "outputs": [
        {
          "output_type": "stream",
          "name": "stdout",
          "text": [
            "hello\n",
            "hello world\n"
          ]
        }
      ]
    },
    {
      "cell_type": "markdown",
      "source": [],
      "metadata": {
        "id": "opGqxYtvwKyH"
      }
    },
    {
      "cell_type": "markdown",
      "source": [
        "Q11. What advantages do dictionaries offer over lists for certain tasks?\n",
        "\n",
        "* Dictionaries in Python offer fast data retrieval:\n",
        " Unlike lists where you have to traverse through each element to find a value, dictionaries use hash tables for quick access to values based on keys."
      ],
      "metadata": {
        "id": "_DypsSCawU-Z"
      }
    },
    {
      "cell_type": "markdown",
      "source": [
        "Q12. Describe a scenario where using a tuple would be preferable over a list.\n",
        "-> As we know Tuples are immutable.So, they are primarily used to store data that doesn't change frequently. Any operation can store data in a tuple when you don't want it to change. Tuples are great to use if you want the data in your collection to be read-only, never to change, and always remain the same and constant."
      ],
      "metadata": {
        "id": "S8jHi-3kwZmy"
      }
    },
    {
      "cell_type": "markdown",
      "source": [
        "Q13. How do sets handle duplicate values in python?"
      ],
      "metadata": {
        "id": "jDeu2sYxw6TY"
      }
    },
    {
      "cell_type": "code",
      "source": [
        "\"\"\"\n",
        "Q13. How do sets handle duplicate values in python?\n",
        "-> Python sets are designed to store only unique elements. When you attempt to\n",
        "add a duplicate value to a set, it will not be added again. This behavior is inherent to\n",
        "the nature of sets as unordered collections of distinct items.For example...\n",
        "\"\"\"\n",
        "my_sets = {1, 2, 3, 2, 4, 1}\n",
        "print(my_sets)       #In this example, even though we tried to add 2 and 1 twice, the set only contains each number once.\n"
      ],
      "metadata": {
        "colab": {
          "base_uri": "https://localhost:8080/"
        },
        "id": "j8yM09bMwT70",
        "outputId": "143c0cc1-3ed4-482d-fd66-bb6d224b1fa7"
      },
      "execution_count": 6,
      "outputs": [
        {
          "output_type": "stream",
          "name": "stdout",
          "text": [
            "{1, 2, 3, 4}\n"
          ]
        }
      ]
    },
    {
      "cell_type": "markdown",
      "source": [
        "Q14. How does the \"in\" keyword work differently for lists and dictionaries?\n",
        "->\n",
        "* Lists:\n",
        "          The \"in\" keyword checks if a value exists among the items in the list.\n",
        "          It returns True if the value is found within the list's elements and False if it is not present.\n",
        "  * Example:\n",
        "  "
      ],
      "metadata": {
        "id": "Yv0Z2jptySd-"
      }
    },
    {
      "cell_type": "code",
      "source": [
        " my_list = [1, 2, 3, 4]\n",
        "  print(2 in my_list)                   # Output: True\n",
        "  print(5 in my_list)"
      ],
      "metadata": {
        "id": "iwHdJQZ4wKTE"
      },
      "execution_count": null,
      "outputs": []
    },
    {
      "cell_type": "markdown",
      "source": [
        "* Dictionaries:\n",
        "      The \"in\" keyword checks if a key exists in the dictionary's key set.\n",
        "      It returns True if the key is found in the dictionary and False if it's not present.\n",
        "* Example:"
      ],
      "metadata": {
        "id": "itVwl-RG0FEg"
      }
    },
    {
      "cell_type": "code",
      "source": [
        "my_dict = {\"name\": \"Akash\", \"age\": 20}\n",
        "print(\"name\" in my_dict)           # Output: True\n",
        "print(\"city\" in my_dict)             # Output: False\n",
        "print(\"Akash\" in my_dict)            # Output: False (checks for keys, not values)\n",
        ""
      ],
      "metadata": {
        "colab": {
          "base_uri": "https://localhost:8080/"
        },
        "id": "bcjDKEH80EqF",
        "outputId": "5301eff2-5bff-4bca-c7a4-5a746eb043be"
      },
      "execution_count": 9,
      "outputs": [
        {
          "output_type": "stream",
          "name": "stdout",
          "text": [
            "True\n",
            "False\n",
            "False\n"
          ]
        }
      ]
    },
    {
      "cell_type": "markdown",
      "source": [
        "   In summary:\n",
        "\n",
        "* Lists: \"in\" searches for a value among the list's items.\n",
        "\n",
        "* Dictionaries: \"in\" searches for a key within the dictionary's key set.\n"
      ],
      "metadata": {
        "id": "Sq00Lem51jrF"
      }
    },
    {
      "cell_type": "markdown",
      "source": [
        "Q15. Can you modify the elements of a tuple explain why or why not?\n",
        "->\n",
        "   No,we cannot directly modify the elements of a tuple in Python after it's been created. Tuples are immutable because of it's designed to be constant. Their values are fixed from the moment they're created, which makes them suitable for representing data that should not be altered. Meaning their contents cannot be changed once they are assigned.\n",
        "\n",
        "   * Data Integrity:\n",
        "\n",
        "        Using immutable tuples helps prevent accidental modifications to data, which is crucial in many programming scenarios.\n",
        "\n",
        "   * Efficiency:\n",
        "\n",
        "      This immutability allows Python to optimize tuple operations, as it doesn't need to worry about tracking changes and allocating new memory.\n",
        "\n",
        "      If we need to change the elements of a sequence,we should use a list instead, as it's mutable and allow for modifications like adding, removing, or changing elements."
      ],
      "metadata": {
        "id": "DnuN14Aq1vuB"
      }
    },
    {
      "cell_type": "code",
      "source": [
        "\"\"\"\n",
        "Q16. What is Nested Dictionary in Python?With an example\n",
        "->\n",
        " A nested dictionary is a dictionary inside a dictionary.\n",
        " It's a collection of dictionaries into one single dictionary.\n",
        " For example\n",
        "\"\"\"\n",
        "\n",
        "people = {1: {'name': 'John', 'age': '27', 'sex': 'Male'},\n",
        "          2: {'name': 'Marie', 'age': '22', 'sex': 'Female'}}\n",
        "print(people)\n",
        "\n",
        "\n"
      ],
      "metadata": {
        "colab": {
          "base_uri": "https://localhost:8080/"
        },
        "id": "P05ZXq_C0EbR",
        "outputId": "def85da1-2644-4be7-83c3-e7c237e0f5e6"
      },
      "execution_count": 11,
      "outputs": [
        {
          "output_type": "stream",
          "name": "stdout",
          "text": [
            "{1: {'name': 'John', 'age': '27', 'sex': 'Male'}, 2: {'name': 'Marie', 'age': '22', 'sex': 'Female'}}\n"
          ]
        }
      ]
    },
    {
      "cell_type": "markdown",
      "source": [
        "Q17. Describe the time complexity of accessing elements in a dictionary?\n",
        "\n",
        "\n",
        "->\n",
        "  In dictionaries, accessing elements by key generally has a time complexity of O(1), according to GeeksforGeeks and Stack Overflow. This means the time it takes to retrieve a value is constant and does not depend on the size of the dictionary. This is due to the underlying implementation using a hash table, which allows for direct lookup of elements using their keys.\n",
        "* Detailed Explanation:\n",
        "O(1) Time Complexity:\n",
        "\n",
        "This indicates that the time taken to access an element remains the same regardless of the number of key-value pairs in the dictionary.\n",
        "* Hash Table:\n",
        "\n",
        "Dictionaries internally utilize a hash table, a data structure that uses a hash function to map keys to specific memory locations.\n",
        "* Direct Lookup:\n",
        "\n",
        "When accessing an element by key, the hash function generates a unique hash value for the key, which is used to locate the corresponding value within the hash table.\n",
        "* Constant Time:\n",
        "\n",
        "Because the hash function directly maps keys to their locations, the time required for lookup is constant, even with a large number of key-value pairs."
      ],
      "metadata": {
        "id": "zw3wYNM14w74"
      }
    },
    {
      "cell_type": "code",
      "source": [],
      "metadata": {
        "id": "rRw6qkt64wdz"
      },
      "execution_count": null,
      "outputs": []
    },
    {
      "cell_type": "code",
      "source": [],
      "metadata": {
        "id": "mlZ90Vxv4wXF"
      },
      "execution_count": null,
      "outputs": []
    },
    {
      "cell_type": "code",
      "source": [],
      "metadata": {
        "id": "pRZK7l3s4wTc"
      },
      "execution_count": null,
      "outputs": []
    },
    {
      "cell_type": "markdown",
      "source": [
        "Q18. In what situations are lists preferred over dictionaries?\n",
        "->\n",
        "   For quick data look-ups, configurations,favor dictionaries, or caches. For ordered collections and sequence operations, such as maintaining a stack or queue, lists are more suitable."
      ],
      "metadata": {
        "id": "ZIzOLGAB6vWa"
      }
    },
    {
      "cell_type": "markdown",
      "source": [
        "Q19. Why dictionary is considered as underscore, and why does that affect data retrieval?\n",
        "\n",
        "->\n",
        " * Basically:\n",
        "  \n",
        "  The dictionary is an unordered collection that contains key:value pairs separated by commas inside curly brackets. Dictionaries are optimized to retrieve values when the key is known. The following declares a dictionary object.\n",
        "  * Dictionary is a data structure which is a important value structure, optimized for fast storage and recovery based on key.\n",
        "\n",
        "  * In python, dictionaries are un-ordered because Python dictionaries are not intended to be in order, as simple as that. If we want to collect a set of objects in order, we have only one choice of accessing them: through index.\n",
        "\n",
        "  * in other words, we can give explanation as \" Dictionary termed as an unordered collection of objects because in dictionary we can use any type of datatypes, but in key datatype must be immutable type \"\n",
        "\n",
        "\n"
      ],
      "metadata": {
        "id": "Y5VwgAT57Jcf"
      }
    },
    {
      "cell_type": "markdown",
      "source": [
        "Q20. Explain the difference between a list and a dictionary in terms of data\n",
        "     retrieval?\n",
        "  ->\n",
        "   * A List in Python is an ordered collection of items that can be accessed by their position (index). Lists are defined using square brackets, like my_list = [1, 2, 3].\n",
        "   * A Dictionary in Python is an unordered collection of key-value pairs where each key is unique and used to access its corresponding value."
      ],
      "metadata": {
        "id": "ni-3Pi_JD3so"
      }
    },
    {
      "cell_type": "markdown",
      "source": [],
      "metadata": {
        "id": "hRf-V1gC4v_B"
      }
    },
    {
      "cell_type": "markdown",
      "source": [
        " ## Practical Question"
      ],
      "metadata": {
        "id": "YCi53vlLEphJ"
      }
    },
    {
      "cell_type": "code",
      "source": [
        "\"\"\"\n",
        "Q1. Write a code to create a string with your name and print it?\n",
        "\"\"\"\n",
        "print(\"Akash\")"
      ],
      "metadata": {
        "colab": {
          "base_uri": "https://localhost:8080/"
        },
        "id": "DeDtTfjgE8eA",
        "outputId": "73d9d221-7d62-4ce9-afe7-8518a509dab0"
      },
      "execution_count": 12,
      "outputs": [
        {
          "output_type": "stream",
          "name": "stdout",
          "text": [
            "Akash\n"
          ]
        }
      ]
    },
    {
      "cell_type": "code",
      "source": [
        "\"\"\"\n",
        "Q2. Write a code to find the length of the string \"Hello World\"?\n",
        "\"\"\"\n",
        "string = \"Hello World\"\n",
        "length = len(string)\n",
        "print(length)"
      ],
      "metadata": {
        "colab": {
          "base_uri": "https://localhost:8080/"
        },
        "id": "hDV85GmeFv7t",
        "outputId": "f0400a1e-990e-48cc-8d49-f3c0b479b2f4"
      },
      "execution_count": 13,
      "outputs": [
        {
          "output_type": "stream",
          "name": "stdout",
          "text": [
            "11\n"
          ]
        }
      ]
    },
    {
      "cell_type": "code",
      "source": [
        "\"\"\"\n",
        "Q3. Write a code to slice the first 3 characters from the string \"Python Programming\"?\n",
        "\n",
        "\"\"\"\n",
        "say = \"Python Programming\"\n",
        "sliced_say = say[:2]\n",
        "print(sliced_say)"
      ],
      "metadata": {
        "colab": {
          "base_uri": "https://localhost:8080/"
        },
        "id": "_hjf35XtGItC",
        "outputId": "ca083e6a-6b84-417d-87e7-a5954b04b4e3"
      },
      "execution_count": 17,
      "outputs": [
        {
          "output_type": "stream",
          "name": "stdout",
          "text": [
            "Py\n"
          ]
        }
      ]
    },
    {
      "cell_type": "code",
      "source": [
        "\"\"\"\n",
        "Q4. Write a code to convert the string \"hello\" to uppercase?\n",
        "\"\"\"\n",
        "say = \"hello\"\n",
        "uppercase_say = string.upper()\n",
        "print(uppercase_say)"
      ],
      "metadata": {
        "colab": {
          "base_uri": "https://localhost:8080/"
        },
        "id": "QSdtZv3GGsxt",
        "outputId": "cf0de93c-3c1d-4587-d47c-4c00a718bbce"
      },
      "execution_count": 16,
      "outputs": [
        {
          "output_type": "stream",
          "name": "stdout",
          "text": [
            "HELLO\n"
          ]
        }
      ]
    },
    {
      "cell_type": "code",
      "source": [
        "\"\"\"\n",
        "Q5. Write a code to replace the word \"apple\" with \"orange\" in the string \"I like apple\"?\n",
        "\"\"\"\n",
        "a = [\"I like apple\",\"I love you so much\"]\n",
        "a = [s.replace('apple', 'orange').replace('love', 'like') for s in a]\n",
        "print(a)"
      ],
      "metadata": {
        "colab": {
          "base_uri": "https://localhost:8080/"
        },
        "id": "ARPLMdIhGsvB",
        "outputId": "a84c5378-8dde-477b-83ee-166a3121067c"
      },
      "execution_count": 21,
      "outputs": [
        {
          "output_type": "stream",
          "name": "stdout",
          "text": [
            "['I like orange', 'I like you so much']\n"
          ]
        }
      ]
    },
    {
      "cell_type": "code",
      "source": [
        "\"\"\"\n",
        "Q6. Write a code to create a list with numbers 1 to 5 and print it.\n",
        "\"\"\"\n",
        "no1 = 0\n",
        "no2 = 6\n",
        "so =list(range(no1,no2))\n",
        "print(so)"
      ],
      "metadata": {
        "colab": {
          "base_uri": "https://localhost:8080/"
        },
        "id": "brMWHfgWGsrC",
        "outputId": "84db11f5-b382-4f10-dd12-2ca34f7b7afe"
      },
      "execution_count": 25,
      "outputs": [
        {
          "output_type": "stream",
          "name": "stdout",
          "text": [
            "[0, 1, 2, 3, 4, 5]\n"
          ]
        }
      ]
    },
    {
      "cell_type": "code",
      "source": [
        "\"\"\"\n",
        "Q7. Write a code to append the number 10 to the list [1, 2, 3, 4]?\n",
        "\"\"\"\n",
        "my_list = [1,2,3,4]\n",
        "my_list.append(10)\n",
        "print(my_list)"
      ],
      "metadata": {
        "colab": {
          "base_uri": "https://localhost:8080/"
        },
        "id": "dvMdkJgnGsoU",
        "outputId": "c00f0e06-8b10-498a-c92b-bad4fe93faec"
      },
      "execution_count": 29,
      "outputs": [
        {
          "output_type": "stream",
          "name": "stdout",
          "text": [
            "[1, 2, 3, 4, 10]\n"
          ]
        }
      ]
    },
    {
      "cell_type": "code",
      "source": [
        "\"\"\"\n",
        "Q8.Write a code to remove the number 3 from the list [1, 2, 3, 4, 5]?\n",
        "\"\"\"\n",
        "my_list = [1,2,3,4,5]\n",
        "my_list.remove(3)\n",
        "print(my_list)"
      ],
      "metadata": {
        "colab": {
          "base_uri": "https://localhost:8080/"
        },
        "id": "5WK7IH7bGslW",
        "outputId": "4ffb3c27-8195-4df2-d127-e8e042db8739"
      },
      "execution_count": 33,
      "outputs": [
        {
          "output_type": "stream",
          "name": "stdout",
          "text": [
            "[1, 2, 4, 5]\n"
          ]
        }
      ]
    },
    {
      "cell_type": "code",
      "source": [
        "\"\"\"\n",
        "Q9. Write a code to access the second element in the list ['a', 'b', 'c' 'd']?\n",
        "\"\"\"\n",
        "my_list = ['a', 'b', 'c', 'd']\n",
        "second_element = my_list[1]\n",
        "print(second_element)"
      ],
      "metadata": {
        "colab": {
          "base_uri": "https://localhost:8080/"
        },
        "id": "NLfQMyECGkmh",
        "outputId": "66521034-996c-4cc4-f34d-8b02f685fff6"
      },
      "execution_count": 36,
      "outputs": [
        {
          "output_type": "stream",
          "name": "stdout",
          "text": [
            "b\n"
          ]
        }
      ]
    },
    {
      "cell_type": "code",
      "source": [
        "\"\"\"\n",
        "Q10. Write a code to reverse the list [10, 20, 30, 40, 50]?\n",
        "\"\"\"\n",
        "my_list = [10, 20, 30, 40, 50]\n",
        "my_list.reverse()\n",
        "print(my_list)"
      ],
      "metadata": {
        "colab": {
          "base_uri": "https://localhost:8080/"
        },
        "id": "PSHoLv6LMfd5",
        "outputId": "d3659a81-03a8-47fd-cb9a-7be6f0b16be3"
      },
      "execution_count": 38,
      "outputs": [
        {
          "output_type": "stream",
          "name": "stdout",
          "text": [
            "[50, 40, 30, 20, 10]\n"
          ]
        }
      ]
    },
    {
      "cell_type": "code",
      "source": [
        "\"\"\"\n",
        "Q11. Write a code to create a tuple with the elements 100, 200, 300 and print it?\n",
        "\"\"\"\n",
        "my_tuple = (100, 200, 300)\n",
        "print(my_tuple)"
      ],
      "metadata": {
        "colab": {
          "base_uri": "https://localhost:8080/"
        },
        "id": "XXn5Wp17Mfbe",
        "outputId": "c444fee4-1fab-464b-f91a-53eb46a745fd"
      },
      "execution_count": 39,
      "outputs": [
        {
          "output_type": "stream",
          "name": "stdout",
          "text": [
            "(100, 200, 300)\n"
          ]
        }
      ]
    },
    {
      "cell_type": "code",
      "source": [
        "\"\"\"\n",
        "Q12. Write a code to access the second-to-last element of the tuple ('red\", 'green', blue, yellow')?\n",
        "\"\"\"\n",
        "my_tuple_2 = ('red', 'green', 'blue', 'yellow')\n",
        "second_to_last = my_tuple_2[-2]\n",
        "print(second_to_last)"
      ],
      "metadata": {
        "colab": {
          "base_uri": "https://localhost:8080/"
        },
        "id": "j4khlO0OMfVE",
        "outputId": "c9e673eb-7bc7-43a5-b608-7d1e9fabf72c"
      },
      "execution_count": 40,
      "outputs": [
        {
          "output_type": "stream",
          "name": "stdout",
          "text": [
            "blue\n"
          ]
        }
      ]
    },
    {
      "cell_type": "code",
      "source": [
        "\"\"\"\n",
        "Q13. Write a code to find the minimum number in the tuple (10, 20, 5, 15).\n",
        "\"\"\"\n",
        "my_tuple_3 = (10, 20, 5, 15)\n",
        "min_number = min(my_tuple_3)\n",
        "print(min_number)"
      ],
      "metadata": {
        "colab": {
          "base_uri": "https://localhost:8080/"
        },
        "id": "Nf-QlaE8MfSY",
        "outputId": "2fc29cb0-fd07-4de6-b09c-00c95c150b31"
      },
      "execution_count": 41,
      "outputs": [
        {
          "output_type": "stream",
          "name": "stdout",
          "text": [
            "5\n"
          ]
        }
      ]
    },
    {
      "cell_type": "code",
      "source": [
        "\"\"\"\n",
        "Q14. Write a code to find the index of the element \"cat\" in the tuple ('dog', 'cat', rabbit')?\n",
        "\"\"\"\n",
        "animals = ['cat', 'dog', 'rabbit', 'horse']\n",
        "index = animals.index('cat')\n",
        "print(index)"
      ],
      "metadata": {
        "colab": {
          "base_uri": "https://localhost:8080/"
        },
        "id": "5W3Ir5JKMfPi",
        "outputId": "c55a9809-4911-4efb-d6a6-9208364a07d5"
      },
      "execution_count": 42,
      "outputs": [
        {
          "output_type": "stream",
          "name": "stdout",
          "text": [
            "0\n"
          ]
        }
      ]
    },
    {
      "cell_type": "code",
      "source": [
        "\"\"\"\n",
        "Q15. Write a code to create a tuple containing three different fruits and check if \"kiwi\" is in it?\n",
        "\"\"\"\n",
        "thistuple = (\"apple\", \"banana\", \"kiwi\")\n",
        "if \"kiwi\" in thistuple:\n",
        "  print(\"Yes, 'kiwi' is in the fruits tuple\")\n",
        "else:\n",
        "    print(\"No, 'kiwi' is not in the fruits tuple\")\n"
      ],
      "metadata": {
        "colab": {
          "base_uri": "https://localhost:8080/"
        },
        "id": "cSBCu5rfMfMW",
        "outputId": "e4d3e98f-7adc-40d0-dc8b-7c73d6b57565"
      },
      "execution_count": 44,
      "outputs": [
        {
          "output_type": "stream",
          "name": "stdout",
          "text": [
            "Yes, 'kiwi' is in the fruits tuple\n"
          ]
        }
      ]
    },
    {
      "cell_type": "code",
      "source": [
        "\"\"\"\n",
        "Q16. Write a code to create a set with the elements 'a, 'b', c' and print it?\n",
        "\"\"\"\n",
        "set1 = {'a','b','c'}\n",
        "print(set1)\n",
        "print(type(set1))"
      ],
      "metadata": {
        "colab": {
          "base_uri": "https://localhost:8080/"
        },
        "id": "uCI-_zxsP_9N",
        "outputId": "009c972d-62b8-4edb-e4f8-cae454bb0b67"
      },
      "execution_count": 47,
      "outputs": [
        {
          "output_type": "stream",
          "name": "stdout",
          "text": [
            "{'c', 'b', 'a'}\n",
            "<class 'set'>\n"
          ]
        }
      ]
    },
    {
      "cell_type": "code",
      "source": [
        "\"\"\"\n",
        "Q17. Write a code to clear all elements from the set {1, 2, 3, 4, 5}?\n",
        "\"\"\"\n",
        "set2 = {1, 2, 3, 4, 5}\n",
        "set2.clear()\n",
        "print(set2)"
      ],
      "metadata": {
        "colab": {
          "base_uri": "https://localhost:8080/"
        },
        "id": "2NUXmbGOQHJm",
        "outputId": "9029e81d-616b-4aeb-9095-062aa1bc8608"
      },
      "execution_count": 49,
      "outputs": [
        {
          "output_type": "stream",
          "name": "stdout",
          "text": [
            "set()\n"
          ]
        }
      ]
    },
    {
      "cell_type": "code",
      "source": [
        "\"\"\"\n",
        "Q18. Write a code to remove the element 4 from the set {1, 2, 3, 4}?\n",
        "\"\"\"\n",
        "set3= {1, 2, 3, 4}\n",
        "set3.remove(4)\n",
        "print(set3)"
      ],
      "metadata": {
        "colab": {
          "base_uri": "https://localhost:8080/"
        },
        "id": "K01j5u5iQHHQ",
        "outputId": "8058a0c0-e71b-4138-af17-481ed96aff52"
      },
      "execution_count": 56,
      "outputs": [
        {
          "output_type": "stream",
          "name": "stdout",
          "text": [
            "{1, 2, 3}\n"
          ]
        }
      ]
    },
    {
      "cell_type": "code",
      "source": [
        "\"\"\"\n",
        "Q19. Write a code to find the union of two sets {1, 2, 3} and {3, 4, 5}?\n",
        "\"\"\"\n",
        "set1 ={1, 2, 3}\n",
        "set2 = {3, 4, 5}\n",
        "union_set = set1 | set2           # Use the union operator (|) to combine the sets\n",
        "print(union_set)"
      ],
      "metadata": {
        "colab": {
          "base_uri": "https://localhost:8080/"
        },
        "id": "_1x2Bk1ZQHCM",
        "outputId": "58bb3343-0ac3-4b76-9096-406fead5ef9d"
      },
      "execution_count": 60,
      "outputs": [
        {
          "output_type": "stream",
          "name": "stdout",
          "text": [
            "{1, 2, 3, 4, 5}\n"
          ]
        }
      ]
    },
    {
      "cell_type": "code",
      "source": [
        "\"\"\"\n",
        "Q20. Write a code to find the intersection of two sets {1, 2, 3} and {2, 3, 4}?\n",
        "\"\"\"\n",
        "set1 = {1, 2, 3}\n",
        "set2 = {2, 3, 4}\n",
        "intersection = set1.intersection(set2)\n",
        "print(intersection)"
      ],
      "metadata": {
        "colab": {
          "base_uri": "https://localhost:8080/"
        },
        "id": "PYHkOjHhQG2a",
        "outputId": "c778d2b9-cc6f-4250-d6be-e74f72f093a4"
      },
      "execution_count": 61,
      "outputs": [
        {
          "output_type": "stream",
          "name": "stdout",
          "text": [
            "{2, 3}\n"
          ]
        }
      ]
    },
    {
      "cell_type": "code",
      "source": [
        "\"\"\"\n",
        "Q21. Write a code to create a dictionary with the keys \"name\", \"age\", and \"city\", and print it?\n",
        "\"\"\"\n",
        "d = {'name': 'Akash', 'age': 20, 'city': 'Kolkata'}\n",
        "\n",
        "a = list(d.keys())\n",
        "\n",
        "print(a)"
      ],
      "metadata": {
        "colab": {
          "base_uri": "https://localhost:8080/"
        },
        "id": "idME8W4eQGyw",
        "outputId": "61bb51f9-1987-41f8-d47f-c3f652c4bcd3"
      },
      "execution_count": 62,
      "outputs": [
        {
          "output_type": "stream",
          "name": "stdout",
          "text": [
            "['name', 'age', 'city']\n"
          ]
        }
      ]
    },
    {
      "cell_type": "code",
      "source": [
        "\"\"\"\n",
        "Q22. Write a code to add a new key-value pair \"country\": \"USA\" to the dictionary {'name: 'John', 'age: 25}?\n",
        "\"\"\"\n",
        "a = {\"name\": \"John\", \"age\": 25}\n",
        "a[\"country\"] = \"USA\"\n",
        "print(a)"
      ],
      "metadata": {
        "colab": {
          "base_uri": "https://localhost:8080/"
        },
        "id": "EsVlrPqtQGvH",
        "outputId": "5c90b43c-1970-4ff0-c535-fe65f579ffcc"
      },
      "execution_count": 63,
      "outputs": [
        {
          "output_type": "stream",
          "name": "stdout",
          "text": [
            "{'name': 'John', 'age': 25, 'country': 'USA'}\n"
          ]
        }
      ]
    },
    {
      "cell_type": "code",
      "source": [
        "\"\"\"\n",
        "Q23. Write a code to access the value associated with the key \"name\" in the dictionary ('name: 'Alice', 'age\": 30}?\n",
        "\"\"\"\n",
        "my_dict = {'name': 'Alice', 'age': 30}\n",
        "name_value = my_dict['name']\n",
        "print(name_value)"
      ],
      "metadata": {
        "colab": {
          "base_uri": "https://localhost:8080/"
        },
        "id": "3N0pCRcUQGqq",
        "outputId": "c6900f48-8e75-41b4-f142-c4775347778f"
      },
      "execution_count": 64,
      "outputs": [
        {
          "output_type": "stream",
          "name": "stdout",
          "text": [
            "Alice\n"
          ]
        }
      ]
    },
    {
      "cell_type": "code",
      "source": [
        "\"\"\"\n",
        "Q24. Write a code to remove the key \"age\" from the dictionary {'name': 'Bob', 'age': 22,'city': 'New York'}?\n",
        "\"\"\"\n",
        "my_dict = {'name': 'Bob', 'age': 22, 'city': 'New York'}\n",
        "del my_dict[\"age\"]\n",
        "print(my_dict)"
      ],
      "metadata": {
        "colab": {
          "base_uri": "https://localhost:8080/"
        },
        "id": "nBQvCbAxQGlS",
        "outputId": "d2ecab1d-3692-4f08-9a92-96c03872f6b0"
      },
      "execution_count": 70,
      "outputs": [
        {
          "output_type": "stream",
          "name": "stdout",
          "text": [
            "{'name': 'Bob', 'city': 'New York'}\n"
          ]
        }
      ]
    },
    {
      "cell_type": "code",
      "source": [
        "my_dict"
      ],
      "metadata": {
        "colab": {
          "base_uri": "https://localhost:8080/"
        },
        "id": "5xLGIwylQGfV",
        "outputId": "7a1c3716-d6fa-461b-f998-945ee25b1a48"
      },
      "execution_count": 66,
      "outputs": [
        {
          "output_type": "execute_result",
          "data": {
            "text/plain": [
              "{'name': 'Bob', 'age': 22, 'city': 'New York'}"
            ]
          },
          "metadata": {},
          "execution_count": 66
        }
      ]
    },
    {
      "cell_type": "code",
      "source": [
        "\"\"\"\n",
        "Q25. Write a code to check if the key \"city\" exists in the dictionary {'name': 'Alice', 'city: 'Paris'}?\n",
        "\"\"\"\n",
        "my_dict2 = {'name': 'Alice','city': 'Paris'}\n",
        "if \"city\" in my_dict2.keys():\n",
        "    print(\"Key exists.\")\n",
        "else:\n",
        "    print(\"Key does not exist.\")\n",
        ""
      ],
      "metadata": {
        "colab": {
          "base_uri": "https://localhost:8080/"
        },
        "id": "M_91VThPP_6a",
        "outputId": "81f490a0-6b4f-4449-f3f5-061fbcf82bf4"
      },
      "execution_count": 81,
      "outputs": [
        {
          "output_type": "stream",
          "name": "stdout",
          "text": [
            "Key exists.\n"
          ]
        }
      ]
    },
    {
      "cell_type": "code",
      "source": [
        "\"\"\"\n",
        "Q26. Write a code to create a list, a tuple, and a dictionary, and print them all?\n",
        "\"\"\"\n",
        "# Creating a list\n",
        "my_list = [1, 2, 3, 4, 5]\n",
        "\n",
        "# Creating a tuple\n",
        "my_tuple = ('a', 'b', 'c', 'd')\n",
        "\n",
        "# Creating a dictionary\n",
        "my_dict = {'name': 'Akash', 'age': 20, 'city': 'kolkata'}\n",
        "\n",
        "# Printing all the data structures\n",
        "print(\"List:\", my_list)\n",
        "print(\"Tuple:\", my_tuple)\n",
        "print(\"Dictionary:\", my_dict)"
      ],
      "metadata": {
        "colab": {
          "base_uri": "https://localhost:8080/"
        },
        "id": "s60FogiDP_3X",
        "outputId": "4d63e195-a92d-4983-ef68-4139b4f4d686"
      },
      "execution_count": 82,
      "outputs": [
        {
          "output_type": "stream",
          "name": "stdout",
          "text": [
            "List: [1, 2, 3, 4, 5]\n",
            "Tuple: ('a', 'b', 'c', 'd')\n",
            "Dictionary: {'name': 'Akash', 'age': 20, 'city': 'kolkata'}\n"
          ]
        }
      ]
    },
    {
      "cell_type": "code",
      "source": [
        "\"\"\"\n",
        "Q27. Write a code to create a list of 5 random numbers between 1 and 100, sort it in ascending order, and print the\n",
        "result. (replaced)\n",
        "\"\"\"\n",
        "import random\n",
        "\n",
        "# Create a list of 5 random numbers between 1 and 100\n",
        "random_numbers = [random.randint(1, 100) for _ in range(5)]\n",
        "\n",
        "# Sort the list in ascending order\n",
        "random_numbers.sort()\n",
        "print(\"Sorted list of random numbers:\", random_numbers)"
      ],
      "metadata": {
        "colab": {
          "base_uri": "https://localhost:8080/"
        },
        "id": "B3nwuKCdfIfE",
        "outputId": "c07e57f2-98f6-4520-8207-e9576f3f7dd4"
      },
      "execution_count": 84,
      "outputs": [
        {
          "output_type": "stream",
          "name": "stdout",
          "text": [
            "Sorted list of random numbers: [20, 29, 35, 58, 100]\n"
          ]
        }
      ]
    },
    {
      "cell_type": "code",
      "source": [
        "\"\"\"\n",
        "Q28. Write a code to create a list with strings and print the element at the third index?\n",
        "\"\"\"\n",
        "string_list = ['apple', 'banana', 'cherry', 'date', 'elderberry']\n",
        "\n",
        "# Printing the element at the third index\n",
        "print(\"Element at index 3:\", string_list[3])"
      ],
      "metadata": {
        "colab": {
          "base_uri": "https://localhost:8080/"
        },
        "id": "yyco_VT7fIbv",
        "outputId": "1fd81618-9c66-4771-af37-a3bf8adef53e"
      },
      "execution_count": 85,
      "outputs": [
        {
          "output_type": "stream",
          "name": "stdout",
          "text": [
            "Element at index 3: date\n"
          ]
        }
      ]
    },
    {
      "cell_type": "code",
      "source": [
        "\"\"\"\n",
        "Q29. Write a code to combine two dictionaries into one and print the result?\n",
        "\"\"\"\n",
        "person_info = {'name': 'Akash', 'age': 20}\n",
        "contact_info = {'email': 'akash@example.com', 'phone': '123-456-9211'}\n",
        "\n",
        "# Combine the dictionaries\n",
        "full_info = {**person_info, **contact_info}\n",
        "print(\"Combined dictionary:\", full_info)"
      ],
      "metadata": {
        "colab": {
          "base_uri": "https://localhost:8080/"
        },
        "id": "HLNUPQYtfIYR",
        "outputId": "8e8ba4c5-90e0-4d5e-eec9-f104e02fbb1b"
      },
      "execution_count": 86,
      "outputs": [
        {
          "output_type": "stream",
          "name": "stdout",
          "text": [
            "Combined dictionary: {'name': 'Akash', 'age': 20, 'email': 'akash@example.com', 'phone': '123-456-9211'}\n"
          ]
        }
      ]
    },
    {
      "cell_type": "code",
      "source": [
        "\"\"\"\n",
        "Q30. Write a code to convert a list of strings into a set?\n",
        "\"\"\"\n",
        "colors = ['red', 'blue', 'green', 'red', 'yellow', 'blue']\n",
        "\n",
        "# Convert the list to a set to remove duplicates\n",
        "unique_colors = set(colors)\n",
        "print(\"Set of unique colors:\", unique_colors)"
      ],
      "metadata": {
        "colab": {
          "base_uri": "https://localhost:8080/"
        },
        "id": "7XCp5-qvfITq",
        "outputId": "04520d07-dffb-4da8-a100-861268c8f77b"
      },
      "execution_count": 88,
      "outputs": [
        {
          "output_type": "stream",
          "name": "stdout",
          "text": [
            "Set of unique colors: {'blue', 'green', 'yellow', 'red'}\n"
          ]
        }
      ]
    },
    {
      "cell_type": "code",
      "source": [],
      "metadata": {
        "id": "nTnvyDEdP_0F"
      },
      "execution_count": null,
      "outputs": []
    }
  ]
}